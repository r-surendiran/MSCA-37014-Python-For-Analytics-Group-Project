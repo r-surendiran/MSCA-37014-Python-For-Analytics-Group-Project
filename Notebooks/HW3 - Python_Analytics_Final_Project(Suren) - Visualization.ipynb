{
 "cells": [
  {
   "cell_type": "code",
   "execution_count": null,
   "metadata": {},
   "outputs": [],
   "source": [
    "pip install joypy"
   ]
  },
  {
   "cell_type": "code",
   "execution_count": null,
   "metadata": {},
   "outputs": [],
   "source": [
    "import pandas as pd \n",
    "import numpy as np\n",
    "import math\n",
    "import json\n",
    "import seaborn as sns\n",
    "import pickle\n",
    "from scipy import interpolate\n",
    "import csv, re, random\n",
    "import matplotlib as mpl\n",
    "import matplotlib.pyplot as plt\n",
    "from scipy import stats, integrate\n",
    "import seaborn as sns\n",
    "import joypy"
   ]
  },
  {
   "cell_type": "code",
   "execution_count": null,
   "metadata": {},
   "outputs": [],
   "source": [
    "analyze_data = pd.read_csv(\"Cleaned_Data_for_Visualization_Suren.csv\")\n",
    "analyze_data = pd.read_csv(\"../Data/Clean/Cleaned_Data_for_Visualization_Suren.csv\")"
   ]
  },
  {
   "cell_type": "code",
   "execution_count": null,
   "metadata": {},
   "outputs": [],
   "source": [
    "filter_cols=['PW_SKILL_LEVEL','ANNUAL_PW_SALARY']\n",
    "denied_salary_df=analyze_data.loc[analyze_data['CASE_STATUS'] == 'Denied',filter_cols]\n",
    "denied_salary_df.loc[denied_salary_df['PW_SKILL_LEVEL'] == 'Level I',filter_cols].min()"
   ]
  },
  {
   "cell_type": "markdown",
   "metadata": {},
   "source": [
    "##  Plot of annual salary for the denied case status "
   ]
  },
  {
   "cell_type": "code",
   "execution_count": null,
   "metadata": {},
   "outputs": [],
   "source": [
    "fig, axes = joypy.joyplot(denied_salary_df, by=\"PW_SKILL_LEVEL\",column=\"ANNUAL_PW_SALARY\",x_range=(2000,200000))\n",
    "plt.show()\n",
    "\n",
    "#labels=[y if y%10==0 else None for y in list(temp.Year.unique())]\n",
    "#fig, axes = joypy.joyplot(temp, by=\"Year\", column=\"Anomaly\", labels=labels, range_style='own', \n",
    "#                          grid=\"y\", linewidth=1, legend=False, figsize=(6,5),\n",
    "#                          title=\"Global daily temperature 1880-2014 \\n(°C above 1950-80 average)\",\n",
    "#                          colormap=cm.autumn_r)"
   ]
  },
  {
   "cell_type": "markdown",
   "metadata": {},
   "source": [
    "## Plot of annual salary for the Certified cases "
   ]
  },
  {
   "cell_type": "code",
   "execution_count": null,
   "metadata": {},
   "outputs": [],
   "source": [
    "filter_cols=['PW_SKILL_LEVEL','ANNUAL_PW_SALARY']\n",
    "case_list = ['Certified','Certified-Expired']\n",
    "certified_salary_df=analyze_data.loc[analyze_data['CASE_STATUS'].isin(case_list),filter_cols]\n"
   ]
  },
  {
   "cell_type": "code",
   "execution_count": null,
   "metadata": {},
   "outputs": [],
   "source": [
    "fig, axes = joypy.joyplot(certified_salary_df, by=\"PW_SKILL_LEVEL\",column=\"ANNUAL_PW_SALARY\",x_range=(2000,200000))\n",
    "plt.show()\n",
    "\n",
    "#labels=[y if y%10==0 else None for y in list(temp.Year.unique())]\n",
    "#fig, axes = joypy.joyplot(temp, by=\"Year\", column=\"Anomaly\", labels=labels, range_style='own', \n",
    "#                          grid=\"y\", linewidth=1, legend=False, figsize=(6,5),\n",
    "#                          title=\"Global daily temperature 1880-2014 \\n(°C above 1950-80 average)\",\n",
    "#                          colormap=cm.autumn_r)"
   ]
  },
  {
   "cell_type": "markdown",
   "metadata": {},
   "source": [
    "## Plot of annual salary against skill level and case status"
   ]
  },
  {
   "cell_type": "code",
   "execution_count": null,
   "metadata": {},
   "outputs": [],
   "source": [
    "#create a color gradent function to be used in the colormap parameter\n",
    "def color_gradient(x=0.0, start=(0, 0, 0), stop=(1, 1, 1)):\n",
    "    r = np.interp(x, [0, 1], [start[0], stop[0]])\n",
    "    g = np.interp(x, [0, 1], [start[1], stop[1]])\n",
    "    b = np.interp(x, [0, 1], [start[2], stop[2]])\n",
    "    return (r, g, b)\n",
    "#show the table\n",
    "\n",
    "#plot the figure\n",
    "plt.figure(dpi=380)\n",
    "fig, axes = joypy.joyplot(analyze_data\n",
    "                          , column=[\"ANNUAL_PW_SALARY\"]\n",
    "                          , overlap=2.5\n",
    "                          , by=[\"PW_SKILL_LEVEL\",\"CASE_STATUS\"]\n",
    "                          , ylim='own'\n",
    "                          , x_range=(10000,250000)\n",
    "                          , fill=True\n",
    "                          , figsize=(10,13)\n",
    "                          , legend=False\n",
    "                          , xlabels=True\n",
    "                          , ylabels=True\n",
    "                          #, color=['#76a5af', '#134f5c']\n",
    "                          , colormap=lambda x: color_gradient(x, start=(.08, .45, .8)\n",
    "                                                             ,stop=(.8, .34, .44))\n",
    "                          , alpha=0.6\n",
    "                          , linewidth=.5\n",
    "                          , linecolor='w'\n",
    "                          #, background='k' # change to 'k' for black background or 'grey' for grey\n",
    "                          , fade=True)\n",
    "plt.title('Joy Plot of Annual Salary by Skill Level and Case Status'\n",
    "          , fontsize=14\n",
    "          , color='grey'\n",
    "          , alpha=1)\n",
    "plt.rc(\"font\", size=12)\n",
    "plt.xlabel('Salary range', fontsize=14, color='grey', alpha=1)\n",
    "plt.ylabel('Case-Skill', fontsize=8, color='grey', alpha=1)\n",
    "plt.show"
   ]
  },
  {
   "cell_type": "code",
   "execution_count": null,
   "metadata": {},
   "outputs": [],
   "source": [
    "#skill_case_status = pd.crosstab(anlayze_data.PW_SKILL_LEVEL, anlayze_data.CASE_STATUS)\n",
    "skill_case_status = pd.crosstab(analyze_data.CASE_STATUS,analyze_data.PW_SKILL_LEVEL)"
   ]
  },
  {
   "cell_type": "code",
   "execution_count": null,
   "metadata": {},
   "outputs": [],
   "source": [
    "skill_case_status"
   ]
  },
  {
   "cell_type": "code",
   "execution_count": null,
   "metadata": {},
   "outputs": [],
   "source": [
    "analyze_data.CASE_STATUS.unique()"
   ]
  },
  {
   "cell_type": "markdown",
   "metadata": {},
   "source": [
    "## Plot Case status vs skill level to identify which skill level was certified or denied the highest\n",
    "\n",
    "**Sample code for reference:**\n",
    "\n",
    "import matplotlib.pyplot as plt\n",
    "categorical_1 = ['A', 'B', 'C', 'D']\n",
    "colors        = ['green', 'red', 'blue', 'orange']\n",
    "numerical = [[6, 9, 2, 7],\n",
    "             [6, 7, 3, 8],\n",
    "             [9, 11, 13, 15],\n",
    "             [3, 5, 9, 6]]\n",
    "number_groups = len(categorical_1) \n",
    "bin_width = 1.0/(number_groups+1)\n",
    "fig, ax = plt.subplots(figsize=(6,6))\n",
    "for i in range(number_groups):\n",
    "    ax.bar(x=np.arange(len(categorical_1)) + i*bin_width, \n",
    "           height=numerical[i],\n",
    "           width=bin_width,\n",
    "           color=colors[i],\n",
    "           align='center')\n",
    "ax.set_xticks(np.arange(len(categorical_1)) + number_groups/(2*(number_groups+1)))\n",
    "---number_groups/(2*(number_groups+1)): offset of xticklabel\n",
    "ax.set_xticklabels(categorical_1)\n",
    "ax.legend(categorical_1, facecolor='w')\n",
    "plt.show()"
   ]
  },
  {
   "cell_type": "code",
   "execution_count": null,
   "metadata": {},
   "outputs": [],
   "source": [
    "labels = ['Certified', 'Certified-Expired', 'Denied', 'Withdrawn']\n",
    "\n",
    "x = np.arange(len(analyze_data.CASE_STATUS.unique()))  # the label locations\n",
    "width = 0.2  # the width of the bars\n",
    "\n",
    "fig, ax = plt.subplots()\n",
    "ax.bar(x, skill_case_status.iloc[:,0], width, color='#000080', label='Level-1')\n",
    "ax.bar(x + width, skill_case_status.iloc[:,1], width, color='#0F52BA', label='Level-2')\n",
    "ax.bar(x + (2 * width), skill_case_status.iloc[:,2], width, color='#6593F5', label='Level-3')\n",
    "ax.bar(x + (3*width), skill_case_status.iloc[:,3], width, color='#73C2FB', label='Level-4')\n",
    "\n",
    "# Add some text for labels, title and custom x-axis tick labels, etc.\n",
    "ax.set_ylabel('Number of Cases')\n",
    "ax.set_xlabel('Case status')\n",
    "ax.set_title('Case Status vs Skill Level')\n",
    "ax.set_xticks(x + width + width/2)\n",
    "ax.set_ylim(300,16000)\n",
    "ax.set_xticklabels(labels)\n",
    "ax.legend()\n",
    "plt.grid(True, 'major', 'y', ls='--', lw=.5, c='k', alpha=.3)\n",
    "\n",
    "fig.tight_layout()\n",
    "plt.show()"
   ]
  },
  {
   "cell_type": "markdown",
   "metadata": {},
   "source": [
    "#Plot Denied vs Withdrawn Separately"
   ]
  },
  {
   "cell_type": "code",
   "execution_count": null,
   "metadata": {},
   "outputs": [],
   "source": [
    "labels = ['Denied', 'Withdrawn']\n",
    "\n",
    "x = np.arange(len(labels))  # the label locations\n",
    "width = 0.2  # the width of the bars\n",
    "\n",
    "fig, ax = plt.subplots()\n",
    "ax.bar(x, skill_case_status.iloc[2:,0], width, color='#000080', label='Level-1')\n",
    "ax.bar(x + width, skill_case_status.iloc[2:,1], width, color='#0F52BA', label='Level-2')\n",
    "ax.bar(x + (2 * width), skill_case_status.iloc[2:,2], width, color='#6593F5', label='Level-3')\n",
    "ax.bar(x + (3*width), skill_case_status.iloc[2:,3], width, color='#73C2FB', label='Level-4')\n",
    "\n",
    "# Add some text for labels, title and custom x-axis tick labels, etc.\n",
    "ax.set_ylabel('Number of Cases')\n",
    "ax.set_xlabel('Case status')\n",
    "ax.set_title('Case Status vs Skill Level')\n",
    "ax.set_xticks(x + width + width/2)\n",
    "ax.set_ylim(200,1000)\n",
    "ax.set_xticklabels(labels)\n",
    "ax.legend()\n",
    "plt.grid(True, 'major', 'y', ls='--', lw=.5, c='k', alpha=.3)\n",
    "\n",
    "fig.tight_layout()\n",
    "plt.show()"
   ]
  },
  {
   "cell_type": "markdown",
   "metadata": {},
   "source": [
    "## Identify Top 10 Visa types and their overall application percentages"
   ]
  },
  {
   "cell_type": "code",
   "execution_count": null,
   "metadata": {},
   "outputs": [],
   "source": [
    "status_visa_type = pd.crosstab(analyze_data.CLASS_OF_ADMISSION,analyze_data.CASE_STATUS,margins=True)\n",
    "status_visa_type['Percentage'] = 100 * status_visa_type.iloc[1:-1,4:]['All']  / status_visa_type.iloc[1:-1,4:]['All'].sum()\n",
    "status_visa_type.drop(['UNKNOWN','Not in USA'], inplace=True)\n",
    "status_visa_DF = status_visa_type.sort_values('Certified', ascending=False).head(2)"
   ]
  },
  {
   "cell_type": "code",
   "execution_count": null,
   "metadata": {},
   "outputs": [],
   "source": [
    "status_visa_type.sort_values('Certified', ascending=False).head(10)"
   ]
  },
  {
   "cell_type": "code",
   "execution_count": null,
   "metadata": {},
   "outputs": [],
   "source": [
    "visa_type_group_df = analyze_data.groupby(['CLASS_OF_ADMISSION','CASE_STATUS']).agg({'CASE_STATUS':'count'})\n",
    "# Change: groupby state_office and divide by sum\n",
    "visa_type_pct_df = visa_type_group_df.groupby(level=0).apply(lambda x: 100 * x / float(x.sum()))\n",
    "visa_type_group_df.loc['H-1B']\n",
    "#visa_type_pct_df"
   ]
  },
  {
   "cell_type": "code",
   "execution_count": null,
   "metadata": {},
   "outputs": [],
   "source": [
    "status_visa_DF.index.to_numpy()"
   ]
  },
  {
   "cell_type": "code",
   "execution_count": null,
   "metadata": {},
   "outputs": [],
   "source": [
    "labels = ['Certified', 'Certified-Expired', 'Denied', 'Withdrawn']\n",
    "labels = status_visa_DF.index.to_numpy()\n",
    "\n",
    "x = np.arange(len(labels))  # the label locations\n",
    "width = 0.2  # the width of the bars\n",
    "\n",
    "fig, ax = plt.subplots()\n",
    "ax.bar(x, status_visa_DF.iloc[:,0], width, color='#000080', label='Certified')\n",
    "ax.bar(x + width, status_visa_DF.iloc[:,1], width, color='#0F52BA', label='Certified-Expired')\n",
    "ax.bar(x + (2 * width), status_visa_DF.iloc[:,2], width, color='#6593F5', label='Denied')\n",
    "ax.bar(x + (3*width), status_visa_DF.iloc[:,3], width, color='#73C2FB', label='Withdrawn')\n",
    "\n",
    "# Add some text for labels, title and custom x-axis tick labels, etc.\n",
    "ax.set_ylabel('Number of Cases')\n",
    "ax.set_xlabel('Case status')\n",
    "ax.set_title('Case Status vs Skill Level')\n",
    "ax.set_xticks(x + width + width/2)\n",
    "ax.set_ylim(300,36000)\n",
    "ax.set_xticklabels(labels)\n",
    "ax.legend()\n",
    "plt.grid(True, 'major', 'y', ls='--', lw=.5, c='k', alpha=.3)\n",
    "\n",
    "fig.tight_layout()\n",
    "plt.show()"
   ]
  },
  {
   "cell_type": "markdown",
   "metadata": {},
   "source": [
    "# Conclusion from above Analysis:\n",
    "There are over 65%  of H1B application in the given dataset and less than 3% denial for the given time period.\n",
    "Also There are more number of Level II applicants than the other and surprisingly  high denial rate for skill level 4 than any other level.\n",
    "\n"
   ]
  }
 ],
 "metadata": {
  "kernelspec": {
   "display_name": "Python 3",
   "language": "python",
   "name": "python3"
  },
  "language_info": {
   "codemirror_mode": {
    "name": "ipython",
    "version": 3
   },
   "file_extension": ".py",
   "mimetype": "text/x-python",
   "name": "python",
   "nbconvert_exporter": "python",
   "pygments_lexer": "ipython3",
   "version": "3.7.6"
  }
 },
 "nbformat": 4,
 "nbformat_minor": 4
}
